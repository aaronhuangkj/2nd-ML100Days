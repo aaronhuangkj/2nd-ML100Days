{
 "cells": [
  {
    "cell_type": "markdown",
    "metadata": {},
    "source": [
     "作業1：\n",
     "\n",
     "請上 Kaggle, 在 Competitions 或 Dataset 中找一組競賽或資料並寫下：\n",
     "Q1. 你選的這組資料為何重要\n",
     "    Dataset: FIFA 19 complete player(https://www.kaggle.com/karangadiya/fifa19)\n",
     "    這組資料是足球分析，個人蠻熱愛足球，故選此，\n",
     "    在最新版FIFA 19數據庫中註冊的每個玩家的詳細屬性。\n",
     "\n",
     "Q2. 資料從何而來 (tips: 譬如提供者是誰、以什麼方式蒐集)\n",
     "    資料提供者的Kaggle ID是Karan Gadiya\n",
     "    數據來自(https://sofifa.com/)。\n",
     "    \n",
     "Q3. 蒐集而來的資料型態為何\n",
     "    這個資料集本身有89筆資料\n",
     "    這其中包括\n",
     "        。ID： integer, 數值型\n",
     "        。姓名(Name)： string, 字串型\n",
     "        。年齡(age)：由16~45之間的整數組成, integer, 數值型\n",
     "        。照片：url to the player's photo\n",
     "        。國家：string, 字串型\n",
     "                   .\n",
     "                   .\n",
     "                   .\n",
     "\n",
     "Q4. 這組資料想解決的問題如何評估\n",
     "    將89筆資料分析。"
    ]
   },
   {
    "cell_type": "markdown",
    "metadata": {},
    "source": [
     "作業2：\n",
     "\n",
     "想像你經營一個自由載客車隊，你希望能透過數據分析以提升業績，請你思考並描述你如何規劃整體的分析/解決方案：\n",
     "\n",
     "Q1. 核心問題為何 (tips：如何定義 「提升業績 & 你的假設」)\n",
     "    提升業績的定義為單位時間內載客所得的收入提升。\n",
     "    假設：天氣的好壞會影響載客量進而影響收入\n",
     "    預期雨天的載客量會較晴天多。\n",
     "Q2. 資料從何而來 (tips：哪些資料可能會對你想問的問題產生影響 & 資料如何蒐集)\n",
     "    每天每時段的載客量資訊及氣候資訊，\n",
     "    氣候資訊、降雨機率可以透過中央氣象台資料蒐集。\n",
     "    \n",
     "Q3. 蒐集而來的資料型態為何\n",
     "    日期：date\n",
     "    時間：time\n",
     "    地點：string\n",
     "    天氣：降雨機率、氣溫\n",
     "Q4. 你要回答的問題，其如何評估 (tips：你的假設如何驗證)\n",
     "    以未來某一天的降雨機率、氣溫之載客量做為答案\n",
     "    並利用實際電子問卷票選與模擬預測該時段在晴天或雨天時的載客量來驗證。"
    ]
   },
   {
   "cell_type": "markdown",
   "metadata": {},
   "source": [
    "## 練習時間\n",
    "#### 請寫一個函式用來計算 Mean Square Error\n",
    "$ MSE = \\frac{1}{n}\\sum_{i=1}^{n}{(Y_i - \\hat{Y}_i)^2} $\n",
    "\n",
    "### Hint: [如何取平方](https://googoodesign.gitbooks.io/-ezpython/unit-1.html)"
   ]
  },
  {
   "cell_type": "code",
   "execution_count": null,
   "metadata": {},
   "outputs": [],
   "source": [
    "import numpy as np\n",
    "import matplotlib.pyplot as plt"
   ]
  },
  {
   "cell_type": "code",
   "execution_count": null,
   "metadata": {},
   "outputs": [],
   "source": [
    "def mean_squared_error():\n",
    "    \"\"\"\n",
    "    請完成這個 Function 後往下執行\n",
    "    \"\"\"\n"
   ]
  },
  {
   "cell_type": "code",
   "execution_count": null,
   "metadata": {},
   "outputs": [],
   "source": [
    "w = 3\n",
    "b = 0.5\n",
    "\n",
    "x_lin = np.linspace(0, 100, 101)\n",
    "\n",
    "y = (x_lin + np.random.randn(101) * 5) * w + b\n",
    "\n",
    "plt.plot(x_lin, y, 'b.', label = 'data points')\n",
    "plt.title(\"Assume we have data points\")\n",
    "plt.legend(loc = 2)\n",
    "plt.show()"
   ]
  },
  {
   "cell_type": "code",
   "execution_count": null,
   "metadata": {},
   "outputs": [],
   "source": [
    "y_hat = x_lin * w + b\n",
    "plt.plot(x_lin, y, 'b.', label = 'data')\n",
    "plt.plot(x_lin, y_hat, 'r-', label = 'prediction')\n",
    "plt.title(\"Assume we have data points (And the prediction)\")\n",
    "plt.legend(loc = 2)\n",
    "plt.show()"
   ]
  },
  {
   "cell_type": "code",
   "execution_count": null,
   "metadata": {},
   "outputs": [],
   "source": [
    "# 執行 Function, 確認有沒有正常執行\n",
    "MSE = mean_squared_error(y, y_hat)\n",
    "MAE = mean_absolute_error(y, y_hat)\n",
    "print(\"The Mean squared error is %.3f\" % (MSE))\n",
    "print(\"The Mean absolute error is %.3f\" % (MAE))"
   ]
  }
 ],
 "metadata": {
  "anaconda-cloud": {},
  "kernelspec": {
   "display_name": "Python [default]",
   "language": "python",
   "name": "python3"
  },
  "language_info": {
   "codemirror_mode": {
    "name": "ipython",
    "version": 3
   },
   "file_extension": ".py",
   "mimetype": "text/x-python",
   "name": "python",
   "nbconvert_exporter": "python",
   "pygments_lexer": "ipython3",
   "version": "3.5.6"
  }
 },
 "nbformat": 4,
 "nbformat_minor": 1
}
